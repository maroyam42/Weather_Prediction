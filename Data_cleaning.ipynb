{
 "cells": [
  {
   "cell_type": "code",
   "execution_count": 1,
   "id": "80ddc0a4",
   "metadata": {},
   "outputs": [],
   "source": [
    "import pandas as pd\n",
    "import numpy as np\n",
    "import matplotlib.pyplot as plt\n",
    "from sklearn.preprocessing import LabelEncoder\n",
    "import os"
   ]
  },
  {
   "cell_type": "code",
   "execution_count": 2,
   "id": "5d88c87c",
   "metadata": {},
   "outputs": [],
   "source": [
    "df=pd.read_csv(\"C:/Users/Dell/Downloads/Data Science Track/weatherAUS.csv/weatherAUS.csv\")"
   ]
  },
  {
   "cell_type": "code",
   "execution_count": 3,
   "id": "a0ccdc77",
   "metadata": {},
   "outputs": [
    {
     "name": "stdout",
     "output_type": "stream",
     "text": [
      "Missing values:\n",
      "MinTemp: 1485 missing\n",
      "MaxTemp: 1261 missing\n",
      "Rainfall: 3261 missing\n",
      "Evaporation: 62790 missing\n",
      "Sunshine: 69835 missing\n",
      "WindGustDir: 10326 missing\n",
      "WindGustSpeed: 10263 missing\n",
      "WindDir9am: 10566 missing\n",
      "WindDir3pm: 4228 missing\n",
      "WindSpeed9am: 1767 missing\n",
      "WindSpeed3pm: 3062 missing\n",
      "Humidity9am: 2654 missing\n",
      "Humidity3pm: 4507 missing\n",
      "Pressure9am: 15065 missing\n",
      "Pressure3pm: 15028 missing\n",
      "Cloud9am: 55888 missing\n",
      "Cloud3pm: 59358 missing\n",
      "Temp9am: 1767 missing\n",
      "Temp3pm: 3609 missing\n",
      "RainToday: 3261 missing\n",
      "RainTomorrow: 3267 missing\n"
     ]
    }
   ],
   "source": [
    "# Check missing values\n",
    "missing_values = df.isnull().sum()\n",
    "print(\"Missing values:\")\n",
    "for col, count in missing_values.items():\n",
    "    if count > 0:\n",
    "        print(f\"{col}: {count} missing\")\n",
    "        \n",
    "if missing_values.sum() == 0:\n",
    "    print(\"No missing values!\")"
   ]
  },
  {
   "cell_type": "code",
   "execution_count": 4,
   "id": "bfd51e68",
   "metadata": {},
   "outputs": [
    {
     "name": "stdout",
     "output_type": "stream",
     "text": [
      "dropped ['Evaporation', 'Sunshine', 'Cloud9am', 'Cloud3pm']\n"
     ]
    }
   ],
   "source": [
    "# drop columns with many nulls\n",
    "cols_to_drop = ['Evaporation', 'Sunshine', 'Cloud9am', 'Cloud3pm']\n",
    "df.drop(columns=cols_to_drop, inplace=True)\n",
    "print(\"dropped\", cols_to_drop)\n"
   ]
  },
  {
   "cell_type": "code",
   "execution_count": 5,
   "id": "f45e5b23",
   "metadata": {},
   "outputs": [
    {
     "name": "stdout",
     "output_type": "stream",
     "text": [
      "<class 'pandas.core.frame.DataFrame'>\n",
      "RangeIndex: 145460 entries, 0 to 145459\n",
      "Data columns (total 19 columns):\n",
      " #   Column         Non-Null Count   Dtype  \n",
      "---  ------         --------------   -----  \n",
      " 0   Date           145460 non-null  object \n",
      " 1   Location       145460 non-null  object \n",
      " 2   MinTemp        143975 non-null  float64\n",
      " 3   MaxTemp        144199 non-null  float64\n",
      " 4   Rainfall       142199 non-null  float64\n",
      " 5   WindGustDir    135134 non-null  object \n",
      " 6   WindGustSpeed  135197 non-null  float64\n",
      " 7   WindDir9am     134894 non-null  object \n",
      " 8   WindDir3pm     141232 non-null  object \n",
      " 9   WindSpeed9am   143693 non-null  float64\n",
      " 10  WindSpeed3pm   142398 non-null  float64\n",
      " 11  Humidity9am    142806 non-null  float64\n",
      " 12  Humidity3pm    140953 non-null  float64\n",
      " 13  Pressure9am    130395 non-null  float64\n",
      " 14  Pressure3pm    130432 non-null  float64\n",
      " 15  Temp9am        143693 non-null  float64\n",
      " 16  Temp3pm        141851 non-null  float64\n",
      " 17  RainToday      142199 non-null  object \n",
      " 18  RainTomorrow   142193 non-null  object \n",
      "dtypes: float64(12), object(7)\n",
      "memory usage: 21.1+ MB\n"
     ]
    }
   ],
   "source": [
    "df.info()"
   ]
  },
  {
   "cell_type": "code",
   "execution_count": 6,
   "id": "597082af",
   "metadata": {},
   "outputs": [],
   "source": [
    "# fill numeric null columns with median (to avoid outliers)\n",
    "for col in df.select_dtypes(include=['float64','int64']).columns:\n",
    "    df[col].fillna(df[col].median(), inplace=True)\n",
    "\n",
    "# fill categorical null columns with mode\n",
    "for col in df.select_dtypes(include=['object']).columns:\n",
    "    df[col].fillna(df[col].mode()[0], inplace=True)\n"
   ]
  },
  {
   "cell_type": "code",
   "execution_count": 7,
   "id": "6197646e",
   "metadata": {},
   "outputs": [
    {
     "data": {
      "text/plain": [
       "Date             0\n",
       "Location         0\n",
       "MinTemp          0\n",
       "MaxTemp          0\n",
       "Rainfall         0\n",
       "WindGustDir      0\n",
       "WindGustSpeed    0\n",
       "WindDir9am       0\n",
       "WindDir3pm       0\n",
       "WindSpeed9am     0\n",
       "WindSpeed3pm     0\n",
       "Humidity9am      0\n",
       "Humidity3pm      0\n",
       "Pressure9am      0\n",
       "Pressure3pm      0\n",
       "Temp9am          0\n",
       "Temp3pm          0\n",
       "RainToday        0\n",
       "RainTomorrow     0\n",
       "dtype: int64"
      ]
     },
     "execution_count": 7,
     "metadata": {},
     "output_type": "execute_result"
    }
   ],
   "source": [
    "df.isnull().sum()"
   ]
  },
  {
   "cell_type": "code",
   "execution_count": 8,
   "id": "71d4a9cc",
   "metadata": {},
   "outputs": [],
   "source": [
    "#convert Date column to date type\n",
    "df[\"Date\"] = pd.to_datetime(df[\"Date\"])"
   ]
  },
  {
   "cell_type": "code",
   "execution_count": 9,
   "id": "28de2991",
   "metadata": {},
   "outputs": [],
   "source": [
    "#handle outliers with IQR \n",
    "import pandas as pd\n",
    "\n",
    "def remove_outliers_iqr(df):\n",
    "\n",
    "    df_clean = df.copy()\n",
    "    \n",
    "    \n",
    "    numeric_cols = df_clean.select_dtypes(include=['int64', 'float64']).columns\n",
    "    \n",
    "    for col in numeric_cols:\n",
    "        Q1 = df_clean[col].quantile(0.25)\n",
    "        Q3 = df_clean[col].quantile(0.75)\n",
    "        IQR = Q3 - Q1\n",
    "        \n",
    "       \n",
    "        lower_bound = Q1 - 1.5 * IQR\n",
    "        upper_bound = Q3 + 1.5 * IQR\n",
    "        \n",
    "        \n",
    "        df_clean = df_clean[(df_clean[col] >= lower_bound) & (df_clean[col] <= upper_bound)]\n",
    "    \n",
    "    return df_clean\n"
   ]
  },
  {
   "cell_type": "code",
   "execution_count": 10,
   "id": "15541d02",
   "metadata": {},
   "outputs": [
    {
     "name": "stdout",
     "output_type": "stream",
     "text": [
      "(104811, 19)\n"
     ]
    }
   ],
   "source": [
    "df_clean = remove_outliers_iqr(df)\n",
    "print(df_clean.shape)"
   ]
  },
  {
   "cell_type": "code",
   "execution_count": 11,
   "id": "753030dd",
   "metadata": {},
   "outputs": [
    {
     "data": {
      "image/png": "[encoded data removed]",
      "text/plain": [
       "<Figure size 1200x600 with 2 Axes>"
      ]
     },
     "metadata": {},
     "output_type": "display_data"
    }
   ],
   "source": [
    "import matplotlib.pyplot as plt\n",
    "import seaborn as sns\n",
    "\n",
    "plt.figure(figsize=(12,6))\n",
    "plt.subplot(1,2,1)\n",
    "sns.boxplot(data=df['MaxTemp'])\n",
    "plt.title(\"Before IQR\")\n",
    "\n",
    "plt.subplot(1,2,2)\n",
    "sns.boxplot(data=df_clean['MaxTemp'])\n",
    "plt.title(\"After IQR\")\n",
    "\n",
    "plt.show()\n"
   ]
  },
  {
   "cell_type": "code",
   "execution_count": 12,
   "id": "8e804e66",
   "metadata": {},
   "outputs": [
    {
     "name": "stdout",
     "output_type": "stream",
     "text": [
      "Text columns to clean: ['Location', 'WindGustDir', 'WindDir9am', 'WindDir3pm', 'RainToday', 'RainTomorrow']\n",
      "Text data cleaned!\n"
     ]
    }
   ],
   "source": [
    "# Clean text columns\n",
    "text_columns = df.select_dtypes(include=['object']).columns\n",
    "print(f\"Text columns to clean: {list(text_columns)}\")\n",
    "\n",
    "for col in text_columns:\n",
    "    # Remove extra spaces and make consistent\n",
    "    df[col] = df[col].astype(str).str.strip().str.title()\n",
    "    \n",
    "print(\"Text data cleaned!\")"
   ]
  },
  {
   "cell_type": "code",
   "execution_count": 13,
   "id": "f91521d4",
   "metadata": {},
   "outputs": [
    {
     "data": {
      "text/plain": [
       "array(['No', 'Yes'], dtype=object)"
      ]
     },
     "execution_count": 13,
     "metadata": {},
     "output_type": "execute_result"
    }
   ],
   "source": [
    "#encoding\n",
    "df[\"RainTomorrow\"].unique() #label encoding"
   ]
  },
  {
   "cell_type": "code",
   "execution_count": 14,
   "id": "d243eb8e",
   "metadata": {},
   "outputs": [
    {
     "data": {
      "text/plain": [
       "array(['No', 'Yes'], dtype=object)"
      ]
     },
     "execution_count": 14,
     "metadata": {},
     "output_type": "execute_result"
    }
   ],
   "source": [
    "df[\"RainToday\"].unique() #label encoding"
   ]
  },
  {
   "cell_type": "code",
   "execution_count": 15,
   "id": "38924d3d",
   "metadata": {},
   "outputs": [
    {
     "data": {
      "text/plain": [
       "array(['Albury', 'Badgeryscreek', 'Cobar', 'Coffsharbour', 'Moree',\n",
       "       'Newcastle', 'Norahhead', 'Norfolkisland', 'Penrith', 'Richmond',\n",
       "       'Sydney', 'Sydneyairport', 'Waggawagga', 'Williamtown',\n",
       "       'Wollongong', 'Canberra', 'Tuggeranong', 'Mountginini', 'Ballarat',\n",
       "       'Bendigo', 'Sale', 'Melbourneairport', 'Melbourne', 'Mildura',\n",
       "       'Nhil', 'Portland', 'Watsonia', 'Dartmoor', 'Brisbane', 'Cairns',\n",
       "       'Goldcoast', 'Townsville', 'Adelaide', 'Mountgambier', 'Nuriootpa',\n",
       "       'Woomera', 'Albany', 'Witchcliffe', 'Pearceraaf', 'Perthairport',\n",
       "       'Perth', 'Salmongums', 'Walpole', 'Hobart', 'Launceston',\n",
       "       'Alicesprings', 'Darwin', 'Katherine', 'Uluru'], dtype=object)"
      ]
     },
     "execution_count": 15,
     "metadata": {},
     "output_type": "execute_result"
    }
   ],
   "source": [
    "df[\"Location\"].unique() #one-hot"
   ]
  },
  {
   "cell_type": "code",
   "execution_count": 16,
   "id": "da56bc53",
   "metadata": {},
   "outputs": [
    {
     "data": {
      "text/plain": [
       "array(['W', 'Wnw', 'Wsw', 'Ne', 'Nnw', 'N', 'Nne', 'Sw', 'Ene', 'Sse',\n",
       "       'S', 'Nw', 'Se', 'Ese', 'E', 'Ssw'], dtype=object)"
      ]
     },
     "execution_count": 16,
     "metadata": {},
     "output_type": "execute_result"
    }
   ],
   "source": [
    "df['WindGustDir'].unique() #one-hot"
   ]
  },
  {
   "cell_type": "code",
   "execution_count": 17,
   "id": "0b32d75e",
   "metadata": {},
   "outputs": [
    {
     "data": {
      "text/plain": [
       "array(['W', 'Nnw', 'Se', 'Ene', 'Sw', 'Sse', 'S', 'Ne', 'N', 'Ssw', 'Wsw',\n",
       "       'Ese', 'E', 'Nw', 'Wnw', 'Nne'], dtype=object)"
      ]
     },
     "execution_count": 17,
     "metadata": {},
     "output_type": "execute_result"
    }
   ],
   "source": [
    "df[\"WindDir9am\"].unique() #one-hot"
   ]
  },
  {
   "cell_type": "code",
   "execution_count": 18,
   "id": "f25c5e94",
   "metadata": {},
   "outputs": [
    {
     "data": {
      "text/plain": [
       "array(['Wnw', 'Wsw', 'E', 'Nw', 'W', 'Sse', 'Ese', 'Ene', 'Nnw', 'Ssw',\n",
       "       'Sw', 'Se', 'N', 'S', 'Nne', 'Ne'], dtype=object)"
      ]
     },
     "execution_count": 18,
     "metadata": {},
     "output_type": "execute_result"
    }
   ],
   "source": [
    "df['WindDir3pm'].unique() #one-hot"
   ]
  },
  {
   "cell_type": "code",
   "execution_count": 19,
   "id": "01ac83bd",
   "metadata": {},
   "outputs": [],
   "source": [
    "#1-label encoding in RainTomorrow and RainToday\n",
    "df[\"RainTomorrow\"]=df[\"RainTomorrow\"].map({'Yes':1,'No':0})\n",
    "df[\"RainToday\"]=df[\"RainToday\"].map({'Yes':1,'No':0})\n"
   ]
  },
  {
   "cell_type": "code",
   "execution_count": 20,
   "id": "922b7453",
   "metadata": {},
   "outputs": [
    {
     "name": "stdout",
     "output_type": "stream",
     "text": [
      "        Date  Location  MinTemp  MaxTemp  Rainfall  WindGustDir  \\\n",
      "0 2008-12-01         2     13.4     22.9       0.6           13   \n",
      "1 2008-12-02         2      7.4     25.1       0.0           14   \n",
      "2 2008-12-03         2     12.9     25.7       0.0           15   \n",
      "3 2008-12-04         2      9.2     28.0       0.0            4   \n",
      "4 2008-12-05         2     17.5     32.3       1.0           13   \n",
      "\n",
      "   WindGustSpeed  WindDir9am  WindDir3pm  WindSpeed9am  WindSpeed3pm  \\\n",
      "0           44.0          13          14          20.0          24.0   \n",
      "1           44.0           6          15           4.0          22.0   \n",
      "2           46.0          13          15          19.0          26.0   \n",
      "3           24.0           9           0          11.0           9.0   \n",
      "4           41.0           1           7           7.0          20.0   \n",
      "\n",
      "   Humidity9am  Humidity3pm  Pressure9am  Pressure3pm  Temp9am  Temp3pm  \\\n",
      "0         71.0         22.0       1007.7       1007.1     16.9     21.8   \n",
      "1         44.0         25.0       1010.6       1007.8     17.2     24.3   \n",
      "2         38.0         30.0       1007.6       1008.7     21.0     23.2   \n",
      "3         45.0         16.0       1017.6       1012.8     18.1     26.5   \n",
      "4         82.0         33.0       1010.8       1006.0     17.8     29.7   \n",
      "\n",
      "   RainToday  RainTomorrow  \n",
      "0          0             0  \n",
      "1          0             0  \n",
      "2          0             0  \n",
      "3          0             0  \n",
      "4          0             0  \n"
     ]
    }
   ],
   "source": [
    "#one-hot encoding\n",
    "categorical_cols = ['Location', 'WindGustDir', 'WindDir9am', 'WindDir3pm']\n",
    "\n",
    "\n",
    "# LabelEncoder\n",
    "le = LabelEncoder()\n",
    "\n",
    "# نطبق على كل عمود categorical\n",
    "for col in categorical_cols:\n",
    "    df[col] = le.fit_transform(df[col].astype(str))\n",
    "\n",
    "print(df.head())\n",
    "\n"
   ]
  },
  {
   "cell_type": "code",
   "execution_count": 21,
   "id": "134554ff",
   "metadata": {},
   "outputs": [],
   "source": [
    "# from sklearn.model_selection import train_test_split\n",
    "# from sklearn.preprocessing import MinMaxScaler\n",
    "\n",
    "# def split_and_scale(df, target_col, test_size=0.2, random_state=42):\n",
    "\n",
    "#     X = df.drop(target_col, axis=1)\n",
    "#     y = df[target_col]\n",
    "\n",
    "#     # split\n",
    "#     X_train, X_test, y_train, y_test = train_test_split(\n",
    "#         X, y, test_size=test_size, random_state=random_state\n",
    "#     )\n",
    "\n",
    "#     numeric_cols = X_train.select_dtypes(include=['float64']).columns\n",
    "\n",
    "#     # scaling\n",
    "#     scaler = MinMaxScaler()\n",
    "#     X_train[numeric_cols] = scaler.fit_transform(X_train[numeric_cols])\n",
    "#     X_test[numeric_cols] = scaler.transform(X_test[numeric_cols])\n",
    "\n",
    "#     return X_train, X_test, y_train, y_test, scaler\n"
   ]
  },
  {
   "cell_type": "code",
   "execution_count": 24,
   "id": "4924407c",
   "metadata": {},
   "outputs": [],
   "source": [
    "os.makedirs(\"datasets/clean\", exist_ok=True)\n",
    "df.to_csv(\"datasets/clean/processedtrain.csv\", index=False)\n"
   ]
  },
  {
   "cell_type": "code",
   "execution_count": 23,
   "id": "8a87f8e1",
   "metadata": {},
   "outputs": [],
   "source": [
    "###################"
   ]
  }
 ],
 "metadata": {
  "kernelspec": {
   "display_name": "base",
   "language": "python",
   "name": "python3"
  },
  "language_info": {
   "codemirror_mode": {
    "name": "ipython",
    "version": 3
   },
   "file_extension": ".py",
   "mimetype": "text/x-python",
   "name": "python",
   "nbconvert_exporter": "python",
   "pygments_lexer": "ipython3",
   "version": "3.11.5"
  }
 },
 "nbformat": 4,
 "nbformat_minor": 5
}
