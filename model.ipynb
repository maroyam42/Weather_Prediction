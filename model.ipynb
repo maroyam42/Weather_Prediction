{
 "cells": [
  {
   "cell_type": "code",
   "execution_count": null,
   "id": "116c9d56",
   "metadata": {},
   "outputs": [],
   "source": [
    "import pandas as pd\n",
    "import numpy as np\n",
    "from sklearn.model_selection import train_test_split,GridSearchCV\n",
    "from sklearn.ensemble import RandomForestClassifier\n",
    "from sklearn.metrics import accuracy_score, classification_report, confusion_matrix\n",
    "from sklearn.preprocessing import LabelEncoder\n",
    "import matplotlib.pyplot as plt\n",
    "from sklearn.metrics import confusion_matrix, ConfusionMatrixDisplay\n",
    "import seaborn as sns"
   ]
  },
  {
   "cell_type": "code",
   "execution_count": null,
   "id": "5be0f0ea",
   "metadata": {},
   "outputs": [],
   "source": [
    "# corr_matrix = df_train.corr()\n",
    "\n",
    "# sns.heatmap(corr_matrix,\n",
    "#     annot=True,            \n",
    "#     annot_kws={'size': 6}, \n",
    "#     fmt='.2f',             \n",
    "#     cmap='coolwarm',      \n",
    "#     linewidths=0.5,        \n",
    "#     )"
   ]
  }
 ],
 "metadata": {
  "language_info": {
   "name": "python"
  }
 },
 "nbformat": 4,
 "nbformat_minor": 5
}
